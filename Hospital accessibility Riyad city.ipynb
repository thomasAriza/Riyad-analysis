{
 "cells": [
  {
   "cell_type": "markdown",
   "id": "f4cd1df1",
   "metadata": {},
   "source": [
    "## Import libraries\n",
    "\n",
    "> Install them with `pip install -r requirements.txt`"
   ]
  },
  {
   "cell_type": "code",
   "execution_count": null,
   "id": "f3753689",
   "metadata": {},
   "outputs": [],
   "source": [
    "import urbanpy as up\n",
    "import contextily as cx\n",
    "import matplotlib.pyplot as plt\n",
    "import plotly\n",
    "import plotly.express as px\n",
    "from mpl_toolkits.axes_grid1 import make_axes_locatable\n",
    "from tqdm.auto import tqdm"
   ]
  },
  {
   "cell_type": "code",
   "execution_count": null,
   "id": "99da2adc",
   "metadata": {},
   "outputs": [],
   "source": [
    "# Activate tqdm progress bar for pandas.apply\n",
    "tqdm.pandas()"
   ]
  },
  {
   "cell_type": "markdown",
   "id": "14858daa",
   "metadata": {},
   "source": [
    "## Get city administrative limits"
   ]
  },
  {
   "cell_type": "code",
   "execution_count": null,
   "id": "9c81ebcd",
   "metadata": {},
   "outputs": [],
   "source": [
    "pos_id = 0  # Result position\n",
    "riyad = up.download.nominatim_osm(\"Riyadh Governorate, Saudi Arabia\", pos_id)  # Nominatim query"
   ]
  },
  {
   "cell_type": "code",
   "execution_count": null,
   "id": "03658ef6",
   "metadata": {},
   "outputs": [],
   "source": [
    "# Plot administrative limits\n",
    "ax = riyad.plot(facecolor=\"none\", edgecolor=\"r\")\n",
    "# Add a basemap\n",
    "cx.add_basemap(ax, source=cx.providers.CartoDB.Positron, crs=\"EPSG:4326\")\n",
    "ax.set_axis_off()"
   ]
  },
  {
   "cell_type": "markdown",
   "id": "a1b031b5",
   "metadata": {},
   "source": [
    "# Get city population density "
   ]
  },
  {
   "cell_type": "code",
   "execution_count": null,
   "id": "693d3331",
   "metadata": {},
   "outputs": [],
   "source": [
    "# Query the population data in Saudi Arabia from the repository of Meta Data For Good Population Maps in the Humanitarian Data Exchange platform\n",
    "population_search_results = up.download.search_hdx_dataset(\"Saudi Arabia\")"
   ]
  },
  {
   "cell_type": "code",
   "execution_count": null,
   "id": "80f61def",
   "metadata": {},
   "outputs": [],
   "source": [
    "population_search_results"
   ]
  },
  {
   "cell_type": "code",
   "execution_count": null,
   "id": "8f61056e",
   "metadata": {},
   "outputs": [],
   "source": [
    "# We selected the index 9 that refers to the Elderly (ages 60+)\n",
    "saudi_arabia_pop = up.download.get_hdx_dataset(population_search_results, 9)\n",
    "saudi_arabia_pop.head()"
   ]
  },
  {
   "cell_type": "code",
   "execution_count": null,
   "id": "835a5276",
   "metadata": {},
   "outputs": [],
   "source": [
    "# Number of population points for the country\n",
    "saudi_arabia_pop.shape[0]"
   ]
  },
  {
   "cell_type": "code",
   "execution_count": null,
   "id": "56b6807a",
   "metadata": {},
   "outputs": [],
   "source": [
    "# Use the city adm limits to filter the country population data\n",
    "filtered_pop = up.geom.filter_population(saudi_arabia_pop, riyad)\n",
    "filtered_pop.head()"
   ]
  },
  {
   "cell_type": "code",
   "execution_count": null,
   "id": "6574f5f1",
   "metadata": {},
   "outputs": [],
   "source": [
    "# Number of population points for the city\n",
    "filtered_pop.shape[0]"
   ]
  },
  {
   "cell_type": "code",
   "execution_count": null,
   "id": "09f3b1e4",
   "metadata": {},
   "outputs": [],
   "source": [
    "# Plot population points\n",
    "ax = filtered_pop.plot(\"sau_elderly_60_plus_2020\", markersize=0.01, legend=True)\n",
    "# Plot administrative limit\n",
    "riyad.plot(facecolor=\"none\", edgecolor=\"r\", ax=ax)\n",
    "# Add a basemap\n",
    "cx.add_basemap(ax, source=cx.providers.CartoDB.Positron, crs=\"EPSG:4326\")\n",
    "ax.set_axis_off()"
   ]
  },
  {
   "cell_type": "markdown",
   "id": "a2640549",
   "metadata": {},
   "source": [
    "## To improve the interpretability of the population plot we will group them in uniform spatial units known as [H3 Hexagons](https://h3geo.org/docs/)."
   ]
  },
  {
   "cell_type": "code",
   "execution_count": null,
   "id": "b58becd9",
   "metadata": {},
   "outputs": [],
   "source": [
    "# Generate hexagons of resolution 7 (~5.1612km2)\n",
    "riyad_hexs = up.geom.gen_hexagons(resolution=7, city=riyad)"
   ]
  },
  {
   "cell_type": "markdown",
   "id": "90e0caf3",
   "metadata": {},
   "source": [
    "> [See the table of resolution and sizes here](https://h3geo.org/docs/core-library/restable#average-area-in-km2)"
   ]
  },
  {
   "cell_type": "code",
   "execution_count": null,
   "id": "690e528a",
   "metadata": {},
   "outputs": [],
   "source": [
    "# Plot the city H3 hexagons\n",
    "ax = riyad_hexs.plot(facecolor=\"none\", edgecolor=\"r\")\n",
    "# Add a basemap\n",
    "cx.add_basemap(ax, source=cx.providers.CartoDB.Positron, crs=\"EPSG:4326\")\n",
    "ax.set_axis_off()"
   ]
  },
  {
   "cell_type": "code",
   "execution_count": null,
   "id": "fc6b3e8d",
   "metadata": {},
   "outputs": [],
   "source": [
    "# Sum the point's population within each hexagons\n",
    "merges_hexs = up.geom.merge_shape_hex(\n",
    "    riyad_hexs, filtered_pop, {\"sau_elderly_60_plus_2020\": \"sum\"}\n",
    ")  # You can use other aggregation methods like max, min, count, and mean"
   ]
  },
  {
   "cell_type": "code",
   "execution_count": null,
   "id": "8e908090",
   "metadata": {},
   "outputs": [],
   "source": [
    "# Plot hexagons colored by population density\n",
    "ax = merges_hexs.plot(\"sau_elderly_60_plus_2020\", legend=True, missing_kwds={\"color\": \"grey\"})\n",
    "# Add a basemap\n",
    "cx.add_basemap(ax, source=cx.providers.CartoDB.Positron, crs=\"EPSG:4326\")\n",
    "ax.set_axis_off()"
   ]
  },
  {
   "cell_type": "code",
   "execution_count": null,
   "id": "1c717a11",
   "metadata": {},
   "outputs": [],
   "source": [
    "# Get amenities (Point of Interest) from Overpass\n",
    "gdf_pois, _ = up.download.overpass(type_of_data=\"node\", query={\"amenity\": [\"clinic\", \"hospital\"]}, mask=riyad)\n",
    "gdf_pois.head()"
   ]
  },
  {
   "cell_type": "markdown",
   "id": "1de6e9fe",
   "metadata": {},
   "source": [
    "> [See all types of data you can query from Overpass](https://wiki.openstreetmap.org/wiki/Map_features)"
   ]
  },
  {
   "cell_type": "code",
   "execution_count": null,
   "id": "e63b0847",
   "metadata": {},
   "outputs": [],
   "source": [
    "# Plot points of interests\n",
    "ax = gdf_pois.plot(\"poi_type\", legend=True, figsize=(10, 10))\n",
    "# Add a basemap\n",
    "cx.add_basemap(ax, source=cx.providers.CartoDB.Positron, crs=\"EPSG:4326\")\n",
    "ax.set_axis_off()"
   ]
  },
  {
   "cell_type": "code",
   "execution_count": null,
   "id": "334b57ac",
   "metadata": {},
   "outputs": [],
   "source": [
    "# Start routing server (needs docker)\n",
    "up.routing.start_osrm_server(\"gcc-states\", \"asia\", \"car\")  # foot,car,bicycle"
   ]
  },
  {
   "cell_type": "code",
   "execution_count": null,
   "id": "d95b1572",
   "metadata": {},
   "outputs": [],
   "source": [
    "# Calculate travel times (duration in minutes and distance in km) from hexagons to points of interest\n",
    "merges_hexs_tt = up.accessibility.travel_times(merges_hexs, gdf_pois)"
   ]
  },
  {
   "cell_type": "code",
   "execution_count": null,
   "id": "a95e0c17",
   "metadata": {},
   "outputs": [],
   "source": [
    "up.routing.stop_osrm_server(\"gcc-states\", \"asia\", \"car\")"
   ]
  },
  {
   "cell_type": "code",
   "execution_count": null,
   "id": "765abec6",
   "metadata": {},
   "outputs": [],
   "source": [
    "merges_hexs_tt.head()"
   ]
  },
  {
   "cell_type": "code",
   "execution_count": null,
   "id": "2fac3127",
   "metadata": {},
   "outputs": [],
   "source": [
    "# Plot distance and duration maps\n",
    "fig, (ax1, ax2) = plt.subplots(1, 2, figsize=(20, 10))\n",
    "\n",
    "# Plot distance\n",
    "divider = make_axes_locatable(ax1)\n",
    "cax = divider.append_axes(\"right\", size=\"5%\", pad=-0.1)\n",
    "merges_hexs_tt.plot(\"distance_to_nearest_poi\", legend=True, ax=ax1, cax=cax)\n",
    "cx.add_basemap(ax1, source=cx.providers.CartoDB.Positron, crs=\"EPSG:4326\")\n",
    "ax1.set_axis_off()\n",
    "ax1.set_title(\"Distance to Nearest PoI\")\n",
    "# Plot duration\n",
    "merges_hexs_tt.plot(\"duration_to_nearest_poi_label\", cmap=\"magma_r\", legend=True, ax=ax2)\n",
    "# Add a basemap\n",
    "cx.add_basemap(ax2, source=cx.providers.CartoDB.Positron, crs=\"EPSG:4326\")\n",
    "ax2.set_axis_off()\n",
    "ax2.set_title(\"Duration to Nearest PoI\")\n",
    "\n",
    "plt.show()"
   ]
  },
  {
   "cell_type": "markdown",
   "id": "e4c17eb0",
   "metadata": {},
   "source": [
    "## Generate interactive maps"
   ]
  },
  {
   "cell_type": "code",
   "execution_count": null,
   "id": "1449352a",
   "metadata": {},
   "outputs": [],
   "source": [
    "plotly.offline.init_notebook_mode()"
   ]
  },
  {
   "cell_type": "code",
   "execution_count": null,
   "id": "91956aa4",
   "metadata": {},
   "outputs": [],
   "source": [
    "fig = up.plotting.choropleth_map(\n",
    "    merges_hexs_tt, \"sau_elderly_60_plus_2020\", title=\"Estimated Elderly (60+) Population - 2020\", opacity=0.5\n",
    ")\n",
    "\n",
    "# Remove the hexagon outlines to make the map clearer\n",
    "fig.update_traces(marker_line_width=0)\n",
    "\n",
    "# Make space for the title\n",
    "fig.update_layout(margin=dict(l=0, r=0, b=0))"
   ]
  },
  {
   "cell_type": "code",
   "execution_count": null,
   "id": "67c69b33",
   "metadata": {},
   "outputs": [],
   "source": [
    "# Filter out the hexagons without population\n",
    "merges_hexs_tt_filtered_pop = merges_hexs_tt.query(\"sau_elderly_60_plus_2020 > 0\").reset_index(drop=True)"
   ]
  },
  {
   "cell_type": "code",
   "execution_count": null,
   "id": "24031e7b",
   "metadata": {},
   "outputs": [],
   "source": [
    "# Get ordered category labels\n",
    "category_orders = merges_hexs_tt_filtered_pop[\"duration_to_nearest_poi_label\"].unique().sort_values()"
   ]
  },
  {
   "cell_type": "code",
   "execution_count": null,
   "id": "d73166b8",
   "metadata": {},
   "outputs": [],
   "source": [
    "fig = up.plotting.choropleth_map(\n",
    "    merges_hexs_tt_filtered_pop,\n",
    "    color_column=\"duration_to_nearest_poi_label\",\n",
    "    color_discrete_sequence=px.colors.sequential.Plasma_r,\n",
    "    category_orders={\"duration_to_nearest_poi_label\": category_orders},\n",
    "    labels={\"duration_to_nearest_poi_label\": \"Minutes\"},\n",
    "    title=\"Travel Time to Nearest PoI\",\n",
    "    opacity=0.5,\n",
    ")\n",
    "\n",
    "# Make space for the title\n",
    "fig.update_layout(margin=dict(l=0, r=0, b=0))\n",
    "\n",
    "# Remove the hexagon outlines to make the map clearer\n",
    "fig.update_traces(marker_line_width=0)"
   ]
  },
  {
   "cell_type": "code",
   "execution_count": null,
   "id": "9078315b",
   "metadata": {},
   "outputs": [],
   "source": []
  }
 ],
 "metadata": {
  "kernelspec": {
   "display_name": "Python 3 (ipykernel)",
   "language": "python",
   "name": "python3"
  },
  "language_info": {
   "codemirror_mode": {
    "name": "ipython",
    "version": 3
   },
   "file_extension": ".py",
   "mimetype": "text/x-python",
   "name": "python",
   "nbconvert_exporter": "python",
   "pygments_lexer": "ipython3",
   "version": "3.11.4"
  }
 },
 "nbformat": 4,
 "nbformat_minor": 5
}
